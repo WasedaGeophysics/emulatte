{
 "cells": [
  {
   "cell_type": "code",
   "execution_count": null,
   "metadata": {},
   "outputs": [],
   "source": [
    "#new instance\n",
    "\n",
    "import os, sys\n",
    "sys.path.append('../')\n",
    "\n",
    "import emulatte"
   ]
  }
 ],
 "metadata": {
  "language_info": {
   "name": "python"
  },
  "orig_nbformat": 4
 },
 "nbformat": 4,
 "nbformat_minor": 2
}
