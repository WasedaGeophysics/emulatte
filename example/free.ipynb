{
 "cells": [
  {
   "cell_type": "code",
   "execution_count": null,
   "metadata": {},
   "outputs": [],
   "source": []
  }
 ],
 "metadata": {
  "kernelspec": {
   "display_name": "Python 3.9.5 64-bit ('origin': conda)",
   "name": "python395jvsc74a57bd04e62c5f72907caf2f8e50c4e1b95548d48fade11eacc296cd4faa51b1d77304e"
  },
  "language_info": {
   "name": "python",
   "version": ""
  },
  "metadata": {
   "interpreter": {
    "hash": "4e62c5f72907caf2f8e50c4e1b95548d48fade11eacc296cd4faa51b1d77304e"
   }
  }
 },
 "nbformat": 4,
 "nbformat_minor": 4
}